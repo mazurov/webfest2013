{
 "metadata": {
  "name": ""
 },
 "nbformat": 3,
 "nbformat_minor": 0,
 "worksheets": [
  {
   "cells": [
    {
     "cell_type": "heading",
     "level": 1,
     "metadata": {},
     "source": [
      "TESHEP practical work : Measuring the D0 lifetime at the LHC"
     ]
    },
    {
     "cell_type": "heading",
     "level": 2,
     "metadata": {},
     "source": [
      "Introduction"
     ]
    },
    {
     "cell_type": "markdown",
     "metadata": {},
     "source": [
      "The Large Hadron Collider (LHC) is not only a tool with which to search for exotic new particles, but also a factory of particles whose existence is in no doubt but whose precise properties are not yet known well enough. One example are charmed hadrons, i.e. hadrons which contain a c quark, which were first discovered more than 30 years ago. Approximately one in every ten LHC interactions produces a charmed hadron, and the LHCb experiment at the LHC has already recorded over one billion signal events in various decay channels. In order to extract information from such large signal samples, it is necessary to achieve excellent control over backgrounds. This set of exercises is designed to teach you how to..."
     ]
    },
    {
     "cell_type": "markdown",
     "metadata": {},
     "source": [
      "The data sample used for this exercise consists of candidate $D^{0}$ mesons found in a sample of randomly collected LHC interactions during\n",
      "2010 datataking. The mesons have been preselected using loose criteria so that you begin the exercise with a visible signal. A $D^{0}$ meson consists\n",
      "of a charm anti-quark and an up quark. The mesons are fully reconstructed decaying in the mode $D^{0}\\to K^+ \\pi^-$, where the final state particles\n",
      "are a kaon ($K^+$) consisting of a strange anti-quark and an up quark, and a pion ($\\pi^-$) which consists of a down quark and an up anti-quark."
     ]
    },
    {
     "cell_type": "markdown",
     "metadata": {},
     "source": [
      "![lhcb_pic](http://mazurov.github.io/webfest2013/images/lhcb_velo.png \"LHCb picture\")\n",
      "\n",
      "Figure 1. The LHCb detector. The $\\textbf{Z}$ axis is the direction of the LHC beamline.\n",
      "\n",
      "Before discussing the data further, it is worth taking the time to familiarize yourselves with the LHCb detector, shown in Fig.1.\n",
      "It is a single-arm forward spectrometer covering the angular range between $0.7^\\circ$ and $15^\\circ$ relative to the beamline.\n",
      "In what follows ``transverse'' means transverse to the LHC beamline. The detector includes a high-precision tracking system consisting of a\n",
      "silicon-strip vertex detector surrounding the $pp$ interaction region, a large-area silicon-strip detector located upstream of a dipole\n",
      "magnet with a bending power of about $4{\\rm\\,Tm}$, and three stations of silicon-strip detectors and straw drift tubes placed\n",
      "downstream. The combined tracking system has a momentum resolution $\\Delta p/p$ that varies from 0.4% at 5$~$GeV$/c$ to 0.6% at 100$~$GeV$/c$,\n",
      "an impact parameter resolution of 20 $\\mu$m for tracks with high transverse momentum, and a decay time resolution\n",
      "of 50$~$fs. Charged hadrons are identified using two ring-imaging Cherenkov detectors.\n",
      "..."
     ]
    },
    {
     "cell_type": "heading",
     "level": 2,
     "metadata": {},
     "source": [
      "Exercise 1 : fitting the mass distribution"
     ]
    },
    {
     "cell_type": "markdown",
     "metadata": {},
     "source": [
      "The object of this exercise is to fit the distribution of the $\\textbf{D0_MM}$ variable and extract the signal yield and purity. If you plot this\n",
      "variable within the range (1816-1914)$~$MeV, you will see a peak (signal) on top of a flat distribution (background). The peak should be described\n",
      "by a Gaussian function, whose mean corresponds to the mass of the $D^0$ and whose width is determined by the experimental resolution of the LHCb\n",
      "detector. You should use the RooFit fitting framework for the following exercise."
     ]
    },
    {
     "cell_type": "markdown",
     "metadata": {},
     "source": [
      "Let's plot mass distribution of signal and background"
     ]
    },
    {
     "cell_type": "code",
     "collapsed": false,
     "input": [
      "from ROOT import TFile, RooRealVar, RooDataSet, RooArgSet, RooGaussian, RooChebychev, RooArgList, RooAddPdf, RooFit\n",
      "import rootnotes"
     ],
     "language": "python",
     "metadata": {},
     "outputs": [],
     "prompt_number": 3
    },
    {
     "cell_type": "code",
     "collapsed": false,
     "input": [
      "inputfile = TFile(\"TESHEP_Pedagogical_Data.root\")"
     ],
     "language": "python",
     "metadata": {},
     "outputs": [],
     "prompt_number": 4
    },
    {
     "cell_type": "code",
     "collapsed": false,
     "input": [
      "inputchain = inputfile.Get(\"DecayTree\")\n"
     ],
     "language": "python",
     "metadata": {},
     "outputs": [],
     "prompt_number": 5
    },
    {
     "cell_type": "code",
     "collapsed": false,
     "input": [
      "nameoffitvar = \"D0_MM\"\n"
     ],
     "language": "python",
     "metadata": {},
     "outputs": [],
     "prompt_number": 6
    },
    {
     "cell_type": "code",
     "collapsed": false,
     "input": [
      "rangeoffit = (1816., 1914)\n"
     ],
     "language": "python",
     "metadata": {},
     "outputs": [],
     "prompt_number": 31
    },
    {
     "cell_type": "code",
     "collapsed": false,
     "input": [
      "backgroundrange = (1890., 1914.)\n"
     ],
     "language": "python",
     "metadata": {},
     "outputs": [],
     "prompt_number": 32
    },
    {
     "cell_type": "code",
     "collapsed": false,
     "input": [
      "nsigmasigbox = 2.\n"
     ],
     "language": "python",
     "metadata": {},
     "outputs": [],
     "prompt_number": 33
    },
    {
     "cell_type": "code",
     "collapsed": false,
     "input": [
      "massvar = RooRealVar(\"D0_MM\", \"D0_MM\", rangeoffit[0], rangeoffit[1])\n"
     ],
     "language": "python",
     "metadata": {},
     "outputs": [],
     "prompt_number": 34
    },
    {
     "cell_type": "code",
     "collapsed": false,
     "input": [
      "mydataset = RooDataSet(\"DecayTreeDataSet\",\"DecayTreeDataSet\",RooArgSet(massvar))\n"
     ],
     "language": "python",
     "metadata": {},
     "outputs": [],
     "prompt_number": 35
    },
    {
     "cell_type": "code",
     "collapsed": false,
     "input": [
      "for entry in range(0,inputchain.GetEntries()) :\n",
      "  inputchain.GetEntry(entry)\n",
      "  if inputchain.__getattr__(nameoffitvar) > rangeoffit[1] or \\\n",
      "     inputchain.__getattr__(nameoffitvar) < rangeoffit[0] :\n",
      "    continue\n",
      "  massvar.setVal(inputchain.__getattr__(nameoffitvar))\n",
      "  mydataset.add(RooArgSet(massvar))\n"
     ],
     "language": "python",
     "metadata": {},
     "outputs": [],
     "prompt_number": 36
    },
    {
     "cell_type": "code",
     "collapsed": false,
     "input": [
      "gausMean_B \t= RooRealVar(\"gausMean_B\",\"gausMean_B\",(rangeoffit[0]+rangeoffit[1])/2.,rangeoffit[0],rangeoffit[1])\n",
      "gausWidth_B \t= RooRealVar(\"gausWidth_B\",\"gausWidth_B\",15.,1.,50.)\n",
      "chebOne_B \t= RooRealVar(\"chebOne_B\",\"chebOne_B\",0.1,-5.,5.)\n",
      "gaussian_B \t= RooGaussian(\"gaussian_B\",\"gaussian_B\",massvar,gausMean_B,gausWidth_B)\n",
      "cheb_B     \t= RooChebychev(\"cheb_B\",\"cheb_B\",massvar,RooArgList(chebOne_B))"
     ],
     "language": "python",
     "metadata": {},
     "outputs": [],
     "prompt_number": 37
    },
    {
     "cell_type": "code",
     "collapsed": false,
     "input": [
      "N_Sig_B = RooRealVar(\"N_Sig_B\",\"N_Sig_B\",10000,0,250000)\n",
      "N_Bkg_B = RooRealVar(\"N_Bkg_B\",\"N_Bkg_B\",10000,0,500000)\n"
     ],
     "language": "python",
     "metadata": {},
     "outputs": [],
     "prompt_number": 38
    },
    {
     "cell_type": "code",
     "collapsed": false,
     "input": [
      "totalpdf_B = RooAddPdf(\"totalpdf_B\",\"totalpdf_B\", RooArgList(gaussian_B,cheb_B), RooArgList(N_Sig_B,N_Bkg_B))\n",
      "totalpdf_B.fitTo(mydataset, RooFit.Extended())\n"
     ],
     "language": "python",
     "metadata": {},
     "outputs": [
      {
       "metadata": {},
       "output_type": "pyout",
       "prompt_number": 39,
       "text": [
        "<ROOT.RooFitResult object at 0x(nil)>"
       ]
      }
     ],
     "prompt_number": 39
    },
    {
     "cell_type": "code",
     "collapsed": false,
     "input": [
      "canv_Dmass = rootnotes.default_canvas()\n",
      "frame_Dmass = massvar.frame()\n",
      "mydataset.plotOn(frame_Dmass,RooFit.Binning(100))\n",
      "totalpdf_B.plotOn(frame_Dmass)\n",
      "frame_Dmass.Draw()"
     ],
     "language": "python",
     "metadata": {},
     "outputs": [],
     "prompt_number": 40
    },
    {
     "cell_type": "code",
     "collapsed": false,
     "input": [
      "canv_Dmass"
     ],
     "language": "python",
     "metadata": {},
     "outputs": [
      {
       "metadata": {},
       "output_type": "pyout",
       "png": "[encoded data removed]",
       "prompt_number": 41,
       "text": [
        "<ROOT.TCanvas object (\"icanvas\") at 0x6ac3720>"
       ]
      }
     ],
     "prompt_number": 41
    },
    {
     "cell_type": "code",
     "collapsed": false,
     "input": [
      "massvar.setRange(\"integralRangeAll\", rangeoffit[0], rangeoffit[1])\n",
      "massvar.setRange(\"integralRangeSignal\", \n",
      "                 gausMean_B.getVal() - nsigmasigbox * gausWidth_B.getVal(),\n",
      "                 gausMean_B.getVal() + nsigmasigbox * gausWidth_B.getVal())\n",
      "massvar.setRange(\"integralRangeBackground\", backgroundrange[0], backgroundrange[1])\n"
     ],
     "language": "python",
     "metadata": {},
     "outputs": [],
     "prompt_number": 46
    },
    {
     "cell_type": "code",
     "collapsed": false,
     "input": [
      "integralall    = cheb_B.createIntegral(RooArgSet(massvar), RooFit.NormSet(RooArgSet(massvar)), RooFit.Range(\"integralRangeAll\"))\n",
      "integralsignal = cheb_B.createIntegral(RooArgSet(massvar), RooFit.NormSet(RooArgSet(massvar)), RooFit.Range(\"integralRangeSignal\"))\n",
      "integralback   = cheb_B.createIntegral(RooArgSet(massvar), RooFit.NormSet(RooArgSet(massvar)), RooFit.Range(\"integralRangeBackground\"))"
     ],
     "language": "python",
     "metadata": {},
     "outputs": [],
     "prompt_number": 43
    },
    {
     "cell_type": "code",
     "collapsed": false,
     "input": [
      "normalizedIntegralValue_S = integralsignal.getVal()/integralall.getVal()\n",
      "normalizedIntegralValue_B = integralback.getVal()/integralall.getVal()\n"
     ],
     "language": "python",
     "metadata": {},
     "outputs": [],
     "prompt_number": 44
    },
    {
     "cell_type": "code",
     "collapsed": false,
     "input": [
      "print \"Signal range =\",\\\n",
      "    gausMean_B.getVal() - nsigmasigbox * gausWidth_B.getVal(), \"-\",\\\n",
      "    gausMean_B.getVal() + nsigmasigbox*gausWidth_B.getVal()\n",
      "print \"Background in signal range =\", normalizedIntegralValue_S * N_Bkg_B.getVal()\n",
      "print \"Background in background range =\",normalizedIntegralValue_B * N_Bkg_B.getVal()\n",
      "\n",
      "print \"Background scale factor =\", normalizedIntegralValue_S / normalizedIntegralValue_B"
     ],
     "language": "python",
     "metadata": {},
     "outputs": [
      {
       "output_type": "stream",
       "stream": "stdout",
       "text": [
        "Signal range = 1849.15867581 - 1879.81505391\n",
        "Background in signal range = 21579.3283653\n",
        "Background in background range = 16197.0885418\n",
        "Background scale factor = 1.33229674639\n"
       ]
      }
     ],
     "prompt_number": 45
    },
    {
     "cell_type": "code",
     "collapsed": false,
     "input": [],
     "language": "python",
     "metadata": {},
     "outputs": []
    }
   ],
   "metadata": {}
  }
 ]
}