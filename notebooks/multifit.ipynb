{
 "metadata": {
  "name": ""
 },
 "nbformat": 3,
 "nbformat_minor": 0,
 "worksheets": [
  {
   "cells": [
    {
     "cell_type": "code",
     "collapsed": false,
     "input": [
      "import rootnotes"
     ],
     "language": "python",
     "metadata": {},
     "outputs": [],
     "prompt_number": 1
    },
    {
     "cell_type": "markdown",
     "metadata": {},
     "source": [
      "An histogram is created and filled with the bin contents and errors\n",
      "defined in the table below.\n",
      "\n",
      "3 gaussians are fitted in sub-ranges of this histogram.\n",
      "\n",
      "A new function (a sum of 3 gaussians) is fitted on another subrange\n",
      "\n",
      "Note that when fitting simple functions, such as gaussians, the initial\n",
      "values of parameters are automatically computed by ROOT.\n",
      "\n",
      "In the more complicated case of the sum of 3 gaussians, the initial values\n",
      "of parameters must be given. In this particular case, the initial values\n",
      "are taken from the result of the individual fits.\n"
     ]
    },
    {
     "cell_type": "code",
     "collapsed": false,
     "input": [
      "from ROOT import TH1F, TF1\n",
      "from ROOT import gROOT, gPad\n",
      "from array import array\n"
     ],
     "language": "python",
     "metadata": {},
     "outputs": [],
     "prompt_number": 2
    },
    {
     "cell_type": "code",
     "collapsed": false,
     "input": [
      "gROOT.Reset()\n",
      "canvas = rootnotes.default_canvas()"
     ],
     "language": "python",
     "metadata": {},
     "outputs": [],
     "prompt_number": 3
    },
    {
     "cell_type": "code",
     "collapsed": false,
     "input": [
      "x = ( 1.913521, 1.953769, 2.347435, 2.883654, 3.493567,\n",
      "      4.047560, 4.337210, 4.364347, 4.563004, 5.054247,\n",
      "      5.194183, 5.380521, 5.303213, 5.384578, 5.563983,\n",
      "      5.728500, 5.685752, 5.080029, 4.251809, 3.372246,\n",
      "      2.207432, 1.227541, 0.8597788,0.8220503,0.8046592,\n",
      "      0.7684097,0.7469761,0.8019787,0.8362375,0.8744895,\n",
      "      0.9143721,0.9462768,0.9285364,0.8954604,0.8410891,\n",
      "      0.7853871,0.7100883,0.6938808,0.7363682,0.7032954,\n",
      "      0.6029015,0.5600163,0.7477068,1.188785, 1.938228,\n",
      "      2.602717, 3.472962, 4.465014, 5.177035 )"
     ],
     "language": "python",
     "metadata": {},
     "outputs": [],
     "prompt_number": 4
    },
    {
     "cell_type": "code",
     "collapsed": false,
     "input": [
      "np = len(x)\n",
      "h = TH1F( 'h', 'Example of several fits in subranges', np, 85, 134 )\n",
      "h.SetMaximum( 7 )\n",
      "\n",
      "for i in xrange(np):\n",
      "   h.SetBinContent( i+1, x[i] )\n",
      "\n",
      "par = array( 'd', 9*[0.] )\n",
      "g1 = TF1( 'g1', 'gaus',  85,  95 )\n",
      "g2 = TF1( 'g2', 'gaus',  98, 108 )\n",
      "g3 = TF1( 'g3', 'gaus', 110, 121 )\n",
      "\n",
      "total = TF1( 'total', 'gaus(0)+gaus(3)+gaus(6)', 85, 125 )\n",
      "total.SetLineColor( 2 )\n",
      "h.Fit( g1, 'R' )\n",
      "h.Fit( g2, 'R+' )\n",
      "h.Fit( g3, 'R+' )\n",
      "\n",
      "par1 = g1.GetParameters()\n",
      "par2 = g2.GetParameters()\n",
      "par3 = g3.GetParameters()\n",
      "\n",
      "par[0], par[1], par[2] = par1[0], par1[1], par1[2]\n",
      "par[3], par[4], par[5] = par2[0], par2[1], par2[2]\n",
      "par[6], par[7], par[8] = par3[0], par3[1], par3[2]\n",
      "\n",
      "total.SetParameters( par )\n",
      "fit = h.Fit( total, 'R+' )"
     ],
     "language": "python",
     "metadata": {},
     "outputs": [],
     "prompt_number": 5
    },
    {
     "cell_type": "code",
     "collapsed": false,
     "input": [
      "canvas"
     ],
     "language": "python",
     "metadata": {},
     "outputs": [
      {
       "metadata": {},
       "output_type": "pyout",
       "png": "[encoded data removed]",
       "prompt_number": 6,
       "text": [
        "<ROOT.TCanvas object (\"icanvas\") at 0x26a3600>"
       ]
      }
     ],
     "prompt_number": 6
    },
    {
     "cell_type": "code",
     "collapsed": false,
     "input": [
      "from sympy import init_printing; init_printing()"
     ],
     "language": "python",
     "metadata": {},
     "outputs": [],
     "prompt_number": 3
    },
    {
     "cell_type": "code",
     "collapsed": false,
     "input": [
      "from sympy import *\n"
     ],
     "language": "python",
     "metadata": {},
     "outputs": [],
     "prompt_number": 5
    },
    {
     "cell_type": "code",
     "collapsed": false,
     "input": [
      "x = Symbol(\"x\")\n",
      "k = Symbol(\"k\")\n",
      "y = Symbol(\"y\")\n",
      "\n",
      "b = Symbol(\"b\")\n",
      "\n",
      "t = sin(2*pi*x*(k**2)) / (4*(pi**2)*(k**5)) + (x**2) / (2*k)\n",
      "\n",
      "t"
     ],
     "language": "python",
     "metadata": {},
     "outputs": [
      {
       "latex": [
        "$$\\frac{x^{2}}{2 k} + \\frac{1}{4 \\pi^{2} k^{5}} \\sin{\\left (2 \\pi k^{2} x \\right )}$$"
       ],
       "metadata": {},
       "output_type": "pyout",
       "png": "[encoded data removed]",
       "prompt_number": 6,
       "text": [
        "  2      \u239b     2  \u239e\n",
        " x    sin\u239d2\u22c5\u03c0\u22c5k \u22c5x\u23a0\n",
        "\u2500\u2500\u2500 + \u2500\u2500\u2500\u2500\u2500\u2500\u2500\u2500\u2500\u2500\u2500\u2500\u2500\n",
        "2\u22c5k         2  5   \n",
        "         4\u22c5\u03c0 \u22c5k    "
       ]
      }
     ],
     "prompt_number": 6
    },
    {
     "cell_type": "code",
     "collapsed": false,
     "input": [
      "t.evalf(subs={'x':1, 'k':2})"
     ],
     "language": "python",
     "metadata": {},
     "outputs": [
      {
       "latex": [
        "$$0.25$$"
       ],
       "metadata": {},
       "output_type": "pyout",
       "png": "[encoded data removed]",
       "prompt_number": 19,
       "text": [
        "0.250000000000000"
       ]
      }
     ],
     "prompt_number": 19
    },
    {
     "cell_type": "markdown",
     "metadata": {},
     "source": [
      "Courtesy of MathJax, you can include mathematical expressions both inline: \n",
      "\n",
      "$e^{i\\\\pi} + 1 = 0$  and displayed\n",
      "\n",
      "$$e^x=\\sum_{i=0}^\\infty \\frac{1}{i!} x^i$$"
     ]
    },
    {
     "cell_type": "markdown",
     "metadata": {},
     "source": [
      "$$c = \\sqrt{a^2 + b^2}$$"
     ]
    },
    {
     "cell_type": "code",
     "collapsed": false,
     "input": [
      "from IPython.display import display, Math, Latex\n",
      "display(Math(r'F(k) = \\int_{-\\infty}^{\\infty} f(x) e^{2\\pi i k} dx'))"
     ],
     "language": "python",
     "metadata": {},
     "outputs": [
      {
       "latex": [
        "$$F(k) = \\int_{-\\infty}^{\\infty} f(x) e^{2\\pi i k} dx$$"
       ],
       "metadata": {},
       "output_type": "display_data",
       "text": [
        "<IPython.core.display.Math at 0x2681fd0>"
       ]
      }
     ],
     "prompt_number": 9
    },
    {
     "cell_type": "code",
     "collapsed": false,
     "input": [
      "%%latex\n",
      "\\begin{aligned}\n",
      "\\nabla \\times \\vec{\\mathbf{B}} -\\, \\frac1c\\, \\frac{\\partial\\vec{\\mathbf{E}}}{\\partial t} & = \\frac{4\\pi}{c}\\vec{\\mathbf{j}} \\\\\n",
      "\\nabla \\cdot \\vec{\\mathbf{E}} & = 4 \\pi \\rho \\\\\n",
      "\\nabla \\times \\vec{\\mathbf{E}}\\, +\\, \\frac1c\\, \\frac{\\partial\\vec{\\mathbf{B}}}{\\partial t} & = \\vec{\\mathbf{0}} \\\\\n",
      "\\nabla \\cdot \\vec{\\mathbf{B}} & = 0\n",
      "\\end{aligned}"
     ],
     "language": "python",
     "metadata": {},
     "outputs": [
      {
       "latex": [
        "\\begin{aligned}\n",
        "\\nabla \\times \\vec{\\mathbf{B}} -\\, \\frac1c\\, \\frac{\\partial\\vec{\\mathbf{E}}}{\\partial t} & = \\frac{4\\pi}{c}\\vec{\\mathbf{j}} \\\\\n",
        "\\nabla \\cdot \\vec{\\mathbf{E}} & = 4 \\pi \\rho \\\\\n",
        "\\nabla \\times \\vec{\\mathbf{E}}\\, +\\, \\frac1c\\, \\frac{\\partial\\vec{\\mathbf{B}}}{\\partial t} & = \\vec{\\mathbf{0}} \\\\\n",
        "\\nabla \\cdot \\vec{\\mathbf{B}} & = 0\n",
        "\\end{aligned}"
       ],
       "metadata": {},
       "output_type": "display_data",
       "text": [
        "<IPython.core.display.Latex at 0x274f0d0>"
       ]
      }
     ],
     "prompt_number": 20
    },
    {
     "cell_type": "code",
     "collapsed": false,
     "input": [],
     "language": "python",
     "metadata": {},
     "outputs": []
    }
   ],
   "metadata": {}
  }
 ]
}